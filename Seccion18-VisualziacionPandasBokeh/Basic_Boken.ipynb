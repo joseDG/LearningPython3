{
  "nbformat": 4,
  "nbformat_minor": 0,
  "metadata": {
    "colab": {
      "name": "Basic_Boken.ipynb",
      "provenance": [],
      "collapsed_sections": []
    },
    "kernelspec": {
      "name": "python3",
      "display_name": "Python 3"
    },
    "language_info": {
      "name": "python"
    }
  },
  "cells": [
    {
      "cell_type": "code",
      "metadata": {
        "id": "_0WIZPhKy4EC"
      },
      "source": [
        "#import Bokeh\n",
        "from bokeh.plotting import figure \n",
        "from bokeh.io import output_file, show \n",
        "\n",
        "#Preparar la data\n",
        "x = [1,2,3,4,5]\n",
        "y = [6,7,8,9,10]\n",
        "\n",
        "#Prepara el archivo de salida\n",
        "output_file(\"Line.html\")\n",
        "\n",
        "#Crear un figura objeto\n",
        "f=figure()\n",
        "\n",
        "#Crear linea plot \n",
        "f.line(x,y) \n",
        "\n",
        "#escribir la plot in el objeto de la figura\n",
        "show(f)"
      ],
      "execution_count": null,
      "outputs": []
    },
    {
      "cell_type": "code",
      "metadata": {
        "id": "7N1ou4CUzCBB"
      },
      "source": [
        "#Creacion produccion triangulo base \n",
        "#Making a basic Bokeh line graph\n",
        " \n",
        "#importing Bokeh\n",
        "from bokeh.plotting import figure\n",
        "from bokeh.io import output_file, show\n",
        " \n",
        "#prepare some data\n",
        "x=[3,7.5,10]\n",
        "y=[3,6,9]\n",
        " \n",
        "#prepare the output file\n",
        "output_file(\"Line.html\")\n",
        " \n",
        "#create a figure object\n",
        "f=figure()\n",
        " \n",
        "#create line plot\n",
        "f.triangle(x,y)\n",
        " \n",
        "#write the plot in the figure object\n",
        "show(f)"
      ],
      "execution_count": null,
      "outputs": []
    },
    {
      "cell_type": "code",
      "metadata": {
        "id": "EYtSgly_0UBy"
      },
      "source": [
        "#Creacion de un circulo plot \n",
        "#Making a basic Bokeh line graph\n",
        " \n",
        "#importing Bokeh\n",
        "from bokeh.plotting import figure\n",
        "from bokeh.io import output_file, show\n",
        " \n",
        "#prepare some data\n",
        "x=[3,7.5,10]\n",
        "y=[3,6,9]\n",
        " \n",
        "#prepare the output file\n",
        "output_file(\"Line.html\")\n",
        " \n",
        "#create a figure object\n",
        "f=figure()\n",
        " \n",
        "#create line plot\n",
        "f.circle(x,y)\n",
        " \n",
        "#write the plot in the figure object\n",
        "show(f)"
      ],
      "execution_count": null,
      "outputs": []
    },
    {
      "cell_type": "code",
      "metadata": {
        "id": "2yv9HAHv0ky5"
      },
      "source": [
        "#Creacion de una interfaz con pandas\n",
        "from bokeh.plotting import figure \n",
        "from bokeh.io import output_file, show\n",
        "import pandas \n",
        "\n",
        "#preparamos la data \n",
        "df=pandas.read_csv(\"https://pythonizing.github.io/data/bachelors.csv\")\n",
        "x=df[\"Year\"]\n",
        "y=df[\"Engineering\"]\n",
        "\n",
        "#preparamso el archivo de salida\n",
        "output_file(\"Line_from_csv.html\")\n",
        "\n",
        "#crear una figura\n",
        "f=figure()\n",
        "\n",
        "#crear line plot\n",
        "f.line(x,y)\n",
        "\n",
        "#write the plot\n",
        "show(f)\n"
      ],
      "execution_count": null,
      "outputs": []
    },
    {
      "cell_type": "code",
      "metadata": {
        "colab": {
          "base_uri": "https://localhost:8080/",
          "height": 244
        },
        "id": "XcIAhf5rxrbU",
        "outputId": "d0de270d-7e55-4986-9062-12cf0237140d"
      },
      "source": [
        "#Creacion de graficas con excel \n",
        "import pandas\n",
        "from bokeh.plotting import figure, output_file, show\n",
        " \n",
        "#p=figure(plot_width=500,plot_height=400, tools='pan',logo=None)\n",
        " \n",
        "p.title.text=\"Cool Data\"\n",
        "p.title.text_color=\"Gray\"\n",
        "p.title.text_font=\"times\"\n",
        "p.title.text_font_style=\"bold\"\n",
        "p.xaxis.minor_tick_line_color=None\n",
        "p.yaxis.minor_tick_line_color=None\n",
        "p.xaxis.axis_label=\"Date\"\n",
        "p.yaxis.axis_label=\"Intensity\"    \n",
        " \n",
        "p.line([1,2,3],[4,5,6])\n",
        "output_file(\"graph.html\")\n",
        "show(p)"
      ],
      "execution_count": null,
      "outputs": [
        {
          "output_type": "error",
          "ename": "NameError",
          "evalue": "ignored",
          "traceback": [
            "\u001b[0;31m---------------------------------------------------------------------------\u001b[0m",
            "\u001b[0;31mNameError\u001b[0m                                 Traceback (most recent call last)",
            "\u001b[0;32m<ipython-input-7-1a047d268cf3>\u001b[0m in \u001b[0;36m<module>\u001b[0;34m()\u001b[0m\n\u001b[1;32m      5\u001b[0m \u001b[0;31m#p=figure(plot_width=500,plot_height=400, tools='pan',logo=None)\u001b[0m\u001b[0;34m\u001b[0m\u001b[0;34m\u001b[0m\u001b[0;34m\u001b[0m\u001b[0m\n\u001b[1;32m      6\u001b[0m \u001b[0;34m\u001b[0m\u001b[0m\n\u001b[0;32m----> 7\u001b[0;31m \u001b[0mp\u001b[0m\u001b[0;34m.\u001b[0m\u001b[0mtitle\u001b[0m\u001b[0;34m.\u001b[0m\u001b[0mtext\u001b[0m\u001b[0;34m=\u001b[0m\u001b[0;34m\"Cool Data\"\u001b[0m\u001b[0;34m\u001b[0m\u001b[0;34m\u001b[0m\u001b[0m\n\u001b[0m\u001b[1;32m      8\u001b[0m \u001b[0mp\u001b[0m\u001b[0;34m.\u001b[0m\u001b[0mtitle\u001b[0m\u001b[0;34m.\u001b[0m\u001b[0mtext_color\u001b[0m\u001b[0;34m=\u001b[0m\u001b[0;34m\"Gray\"\u001b[0m\u001b[0;34m\u001b[0m\u001b[0;34m\u001b[0m\u001b[0m\n\u001b[1;32m      9\u001b[0m \u001b[0mp\u001b[0m\u001b[0;34m.\u001b[0m\u001b[0mtitle\u001b[0m\u001b[0;34m.\u001b[0m\u001b[0mtext_font\u001b[0m\u001b[0;34m=\u001b[0m\u001b[0;34m\"times\"\u001b[0m\u001b[0;34m\u001b[0m\u001b[0;34m\u001b[0m\u001b[0m\n",
            "\u001b[0;31mNameError\u001b[0m: name 'p' is not defined"
          ]
        }
      ]
    },
    {
      "cell_type": "code",
      "metadata": {
        "id": "IxLW9nns-hp8"
      },
      "source": [
        "import pandas\n",
        " \n",
        "from bokeh.plotting import figure, output_file, show\n",
        " \n",
        "df=pandas.read_excel(\"verlegenhuken.xlsx\",engine='openpyxl',sheet_name=0)\n",
        "df[\"Temperature\"]=df[\"Temperature\"]/10\n",
        "df[\"Pressure\"]=df[\"Pressure\"]/10\n",
        " \n",
        "p=figure(plot_width=500,plot_height=400,tools='pan')\n",
        " \n",
        "p.title.text=\"Temperature and Air Pressure\"\n",
        "p.title.text_color=\"Gray\"\n",
        "p.title.text_font=\"arial\"\n",
        "p.title.text_font_style=\"bold\"\n",
        "p.xaxis.minor_tick_line_color=None\n",
        "p.yaxis.minor_tick_line_color=None\n",
        "p.xaxis.axis_label=\"Temperature (°C)\"\n",
        "p.yaxis.axis_label=\"Pressure (hPa)\"    \n",
        " \n",
        "p.circle(df[\"Temperature\"],df[\"Pressure\"],size=0.5)\n",
        "output_file(\"Weather.html\")\n",
        "show(p)"
      ],
      "execution_count": null,
      "outputs": []
    },
    {
      "cell_type": "code",
      "metadata": {
        "id": "LriXZ_BBAk2a"
      },
      "source": [
        "from bokeh.plotting import figure, output_file, show\n",
        "p = figure(plot_width=500, plot_height=400, tools = 'pan, reset')\n",
        "p.title.text = \"Earthquakes\"\n",
        "p.title.text_color = \"Orange\"\n",
        "p.title.text_font = \"times\"\n",
        "p.title.text_font_style = \"italic\"\n",
        "p.yaxis.minor_tick_line_color = \"Yellow\"\n",
        "p.xaxis.axis_label = \"Times\"\n",
        "p.yaxis.axis_label = \"Value\"\n",
        "p.circle([1,2,3,4,5], [5,6,5,5,3], size = [i*2 for i in [8,12,14,15,20]], color=\"red\", alpha=0.5)\n",
        "output_file(\"Scatter_plotting.html\")\n",
        "show(p)"
      ],
      "execution_count": null,
      "outputs": []
    },
    {
      "cell_type": "code",
      "metadata": {
        "id": "HBaNGLdDudiL"
      },
      "source": [
        "#Hacer graficos de series de tiempos "
      ],
      "execution_count": null,
      "outputs": []
    },
    {
      "cell_type": "code",
      "metadata": {
        "id": "FZBZA32_Bmll"
      },
      "source": [
        ""
      ],
      "execution_count": null,
      "outputs": []
    }
  ]
}