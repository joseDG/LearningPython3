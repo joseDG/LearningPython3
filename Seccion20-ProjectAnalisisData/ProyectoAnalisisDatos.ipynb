{
  "nbformat": 4,
  "nbformat_minor": 0,
  "metadata": {
    "colab": {
      "name": "ProyectoAnalisisDatos.ipynb",
      "provenance": []
    },
    "kernelspec": {
      "name": "python3",
      "display_name": "Python 3"
    },
    "language_info": {
      "name": "python"
    }
  },
  "cells": [
    {
      "cell_type": "markdown",
      "metadata": {
        "id": "66F9jKPEGTDL"
      },
      "source": [
        "## Descripcion del marco de Datos"
      ]
    },
    {
      "cell_type": "code",
      "metadata": {
        "id": "-ATJd8trTrv9"
      },
      "source": [
        "import pandas \n",
        "from datetime import  datetime\n",
        "from pytz import utc \n",
        "data = pandas.read_csv(\"reviews.csv\", parse_dates=['Timestamp'])"
      ],
      "execution_count": 31,
      "outputs": []
    },
    {
      "cell_type": "code",
      "metadata": {
        "colab": {
          "base_uri": "https://localhost:8080/",
          "height": 205
        },
        "id": "L44DcFOf592Z",
        "outputId": "b456e7af-3bda-4927-c1a5-61988c56bdb9"
      },
      "source": [
        "data.head()"
      ],
      "execution_count": 6,
      "outputs": [
        {
          "output_type": "execute_result",
          "data": {
            "text/html": [
              "<div>\n",
              "<style scoped>\n",
              "    .dataframe tbody tr th:only-of-type {\n",
              "        vertical-align: middle;\n",
              "    }\n",
              "\n",
              "    .dataframe tbody tr th {\n",
              "        vertical-align: top;\n",
              "    }\n",
              "\n",
              "    .dataframe thead th {\n",
              "        text-align: right;\n",
              "    }\n",
              "</style>\n",
              "<table border=\"1\" class=\"dataframe\">\n",
              "  <thead>\n",
              "    <tr style=\"text-align: right;\">\n",
              "      <th></th>\n",
              "      <th>Course Name</th>\n",
              "      <th>Timestamp</th>\n",
              "      <th>Rating</th>\n",
              "      <th>Comment</th>\n",
              "    </tr>\n",
              "  </thead>\n",
              "  <tbody>\n",
              "    <tr>\n",
              "      <th>0</th>\n",
              "      <td>The Python Mega Course: Build 10 Real World Ap...</td>\n",
              "      <td>2021-04-02 06:25:52+00:00</td>\n",
              "      <td>4.0</td>\n",
              "      <td>NaN</td>\n",
              "    </tr>\n",
              "    <tr>\n",
              "      <th>1</th>\n",
              "      <td>The Python Mega Course: Build 10 Real World Ap...</td>\n",
              "      <td>2021-04-02 05:12:34+00:00</td>\n",
              "      <td>4.0</td>\n",
              "      <td>NaN</td>\n",
              "    </tr>\n",
              "    <tr>\n",
              "      <th>2</th>\n",
              "      <td>The Python Mega Course: Build 10 Real World Ap...</td>\n",
              "      <td>2021-04-02 05:11:03+00:00</td>\n",
              "      <td>4.0</td>\n",
              "      <td>NaN</td>\n",
              "    </tr>\n",
              "    <tr>\n",
              "      <th>3</th>\n",
              "      <td>The Python Mega Course: Build 10 Real World Ap...</td>\n",
              "      <td>2021-04-02 03:33:24+00:00</td>\n",
              "      <td>5.0</td>\n",
              "      <td>NaN</td>\n",
              "    </tr>\n",
              "    <tr>\n",
              "      <th>4</th>\n",
              "      <td>The Python Mega Course: Build 10 Real World Ap...</td>\n",
              "      <td>2021-04-02 03:31:49+00:00</td>\n",
              "      <td>4.5</td>\n",
              "      <td>NaN</td>\n",
              "    </tr>\n",
              "  </tbody>\n",
              "</table>\n",
              "</div>"
            ],
            "text/plain": [
              "                                         Course Name  ... Comment\n",
              "0  The Python Mega Course: Build 10 Real World Ap...  ...     NaN\n",
              "1  The Python Mega Course: Build 10 Real World Ap...  ...     NaN\n",
              "2  The Python Mega Course: Build 10 Real World Ap...  ...     NaN\n",
              "3  The Python Mega Course: Build 10 Real World Ap...  ...     NaN\n",
              "4  The Python Mega Course: Build 10 Real World Ap...  ...     NaN\n",
              "\n",
              "[5 rows x 4 columns]"
            ]
          },
          "metadata": {},
          "execution_count": 6
        }
      ]
    },
    {
      "cell_type": "code",
      "metadata": {
        "colab": {
          "base_uri": "https://localhost:8080/"
        },
        "id": "nCQZ1JGbEOP8",
        "outputId": "c1ca64fd-6b74-4ea4-8ef0-78ffa2fdd34e"
      },
      "source": [
        "data.shape"
      ],
      "execution_count": 7,
      "outputs": [
        {
          "output_type": "execute_result",
          "data": {
            "text/plain": [
              "(45000, 4)"
            ]
          },
          "metadata": {},
          "execution_count": 7
        }
      ]
    },
    {
      "cell_type": "code",
      "metadata": {
        "colab": {
          "base_uri": "https://localhost:8080/"
        },
        "id": "Hf3ajkTiERna",
        "outputId": "565385b2-3581-4dbf-96c2-4e8678049b49"
      },
      "source": [
        "data.columns"
      ],
      "execution_count": 8,
      "outputs": [
        {
          "output_type": "execute_result",
          "data": {
            "text/plain": [
              "Index(['Course Name', 'Timestamp', 'Rating', 'Comment'], dtype='object')"
            ]
          },
          "metadata": {},
          "execution_count": 8
        }
      ]
    },
    {
      "cell_type": "code",
      "metadata": {
        "colab": {
          "base_uri": "https://localhost:8080/",
          "height": 317
        },
        "id": "lTIZn8ZwEUCq",
        "outputId": "f9bdd1e6-c890-47c0-df0a-e26daef6db9f"
      },
      "source": [
        "data.hist('Rating')"
      ],
      "execution_count": 9,
      "outputs": [
        {
          "output_type": "execute_result",
          "data": {
            "text/plain": [
              "array([[<matplotlib.axes._subplots.AxesSubplot object at 0x7fe2a66e4bd0>]],\n",
              "      dtype=object)"
            ]
          },
          "metadata": {},
          "execution_count": 9
        },
        {
          "output_type": "display_data",
          "data": {
            "image/png": "[encoded data removed]",
            "text/plain": [
              "<Figure size 432x288 with 1 Axes>"
            ]
          },
          "metadata": {
            "needs_background": "light"
          }
        }
      ]
    },
    {
      "cell_type": "code",
      "metadata": {
        "id": "6BHFBRU8EZzq"
      },
      "source": [
        ""
      ],
      "execution_count": null,
      "outputs": []
    },
    {
      "cell_type": "markdown",
      "metadata": {
        "id": "O12KQwXWGk8Y"
      },
      "source": [
        "## 1.Seleccionar datos del marco de datos"
      ]
    },
    {
      "cell_type": "markdown",
      "metadata": {
        "id": "glkYbXqwG7tQ"
      },
      "source": [
        "Seleccionar una Columna"
      ]
    },
    {
      "cell_type": "code",
      "metadata": {
        "colab": {
          "base_uri": "https://localhost:8080/"
        },
        "id": "4YkBUOseGo6-",
        "outputId": "7bab42b4-d2cb-4dc8-c754-46bde4c573e0"
      },
      "source": [
        "data['Rating']"
      ],
      "execution_count": 14,
      "outputs": [
        {
          "output_type": "execute_result",
          "data": {
            "text/plain": [
              "0        4.0\n",
              "1        4.0\n",
              "2        4.0\n",
              "3        5.0\n",
              "4        4.5\n",
              "        ... \n",
              "44995    4.0\n",
              "44996    5.0\n",
              "44997    5.0\n",
              "44998    5.0\n",
              "44999    5.0\n",
              "Name: Rating, Length: 45000, dtype: float64"
            ]
          },
          "metadata": {},
          "execution_count": 14
        }
      ]
    },
    {
      "cell_type": "markdown",
      "metadata": {
        "id": "khw4hDERHX1E"
      },
      "source": [
        "Seleccionar multiples columnas\n"
      ]
    },
    {
      "cell_type": "code",
      "metadata": {
        "colab": {
          "base_uri": "https://localhost:8080/",
          "height": 422
        },
        "id": "gIw0rez9HdV8",
        "outputId": "fe7a9025-4024-439a-eee7-71b101c9e50b"
      },
      "source": [
        "data[['Course Name', 'Rating']]"
      ],
      "execution_count": 15,
      "outputs": [
        {
          "output_type": "execute_result",
          "data": {
            "text/html": [
              "<div>\n",
              "<style scoped>\n",
              "    .dataframe tbody tr th:only-of-type {\n",
              "        vertical-align: middle;\n",
              "    }\n",
              "\n",
              "    .dataframe tbody tr th {\n",
              "        vertical-align: top;\n",
              "    }\n",
              "\n",
              "    .dataframe thead th {\n",
              "        text-align: right;\n",
              "    }\n",
              "</style>\n",
              "<table border=\"1\" class=\"dataframe\">\n",
              "  <thead>\n",
              "    <tr style=\"text-align: right;\">\n",
              "      <th></th>\n",
              "      <th>Course Name</th>\n",
              "      <th>Rating</th>\n",
              "    </tr>\n",
              "  </thead>\n",
              "  <tbody>\n",
              "    <tr>\n",
              "      <th>0</th>\n",
              "      <td>The Python Mega Course: Build 10 Real World Ap...</td>\n",
              "      <td>4.0</td>\n",
              "    </tr>\n",
              "    <tr>\n",
              "      <th>1</th>\n",
              "      <td>The Python Mega Course: Build 10 Real World Ap...</td>\n",
              "      <td>4.0</td>\n",
              "    </tr>\n",
              "    <tr>\n",
              "      <th>2</th>\n",
              "      <td>The Python Mega Course: Build 10 Real World Ap...</td>\n",
              "      <td>4.0</td>\n",
              "    </tr>\n",
              "    <tr>\n",
              "      <th>3</th>\n",
              "      <td>The Python Mega Course: Build 10 Real World Ap...</td>\n",
              "      <td>5.0</td>\n",
              "    </tr>\n",
              "    <tr>\n",
              "      <th>4</th>\n",
              "      <td>The Python Mega Course: Build 10 Real World Ap...</td>\n",
              "      <td>4.5</td>\n",
              "    </tr>\n",
              "    <tr>\n",
              "      <th>...</th>\n",
              "      <td>...</td>\n",
              "      <td>...</td>\n",
              "    </tr>\n",
              "    <tr>\n",
              "      <th>44995</th>\n",
              "      <td>Python for Beginners with Examples</td>\n",
              "      <td>4.0</td>\n",
              "    </tr>\n",
              "    <tr>\n",
              "      <th>44996</th>\n",
              "      <td>The Python Mega Course: Build 10 Real World Ap...</td>\n",
              "      <td>5.0</td>\n",
              "    </tr>\n",
              "    <tr>\n",
              "      <th>44997</th>\n",
              "      <td>The Python Mega Course: Build 10 Real World Ap...</td>\n",
              "      <td>5.0</td>\n",
              "    </tr>\n",
              "    <tr>\n",
              "      <th>44998</th>\n",
              "      <td>Python for Beginners with Examples</td>\n",
              "      <td>5.0</td>\n",
              "    </tr>\n",
              "    <tr>\n",
              "      <th>44999</th>\n",
              "      <td>The Python Mega Course: Build 10 Real World Ap...</td>\n",
              "      <td>5.0</td>\n",
              "    </tr>\n",
              "  </tbody>\n",
              "</table>\n",
              "<p>45000 rows × 2 columns</p>\n",
              "</div>"
            ],
            "text/plain": [
              "                                             Course Name  Rating\n",
              "0      The Python Mega Course: Build 10 Real World Ap...     4.0\n",
              "1      The Python Mega Course: Build 10 Real World Ap...     4.0\n",
              "2      The Python Mega Course: Build 10 Real World Ap...     4.0\n",
              "3      The Python Mega Course: Build 10 Real World Ap...     5.0\n",
              "4      The Python Mega Course: Build 10 Real World Ap...     4.5\n",
              "...                                                  ...     ...\n",
              "44995                 Python for Beginners with Examples     4.0\n",
              "44996  The Python Mega Course: Build 10 Real World Ap...     5.0\n",
              "44997  The Python Mega Course: Build 10 Real World Ap...     5.0\n",
              "44998                 Python for Beginners with Examples     5.0\n",
              "44999  The Python Mega Course: Build 10 Real World Ap...     5.0\n",
              "\n",
              "[45000 rows x 2 columns]"
            ]
          },
          "metadata": {},
          "execution_count": 15
        }
      ]
    },
    {
      "cell_type": "markdown",
      "metadata": {
        "id": "1YluKMUTIMN4"
      },
      "source": [
        "Seleccionar una fila"
      ]
    },
    {
      "cell_type": "code",
      "metadata": {
        "colab": {
          "base_uri": "https://localhost:8080/"
        },
        "id": "uRvJQxEZIQOT",
        "outputId": "d572c0b1-c442-4908-f8da-c491c8851c85"
      },
      "source": [
        "data.iloc[3]"
      ],
      "execution_count": 16,
      "outputs": [
        {
          "output_type": "execute_result",
          "data": {
            "text/plain": [
              "Course Name    The Python Mega Course: Build 10 Real World Ap...\n",
              "Timestamp                              2021-04-02 03:33:24+00:00\n",
              "Rating                                                         5\n",
              "Comment                                                      NaN\n",
              "Name: 3, dtype: object"
            ]
          },
          "metadata": {},
          "execution_count": 16
        }
      ]
    },
    {
      "cell_type": "markdown",
      "metadata": {
        "id": "Iw8cTdPKIUSM"
      },
      "source": [
        "Seleccionar multiples filas"
      ]
    },
    {
      "cell_type": "code",
      "metadata": {
        "colab": {
          "base_uri": "https://localhost:8080/",
          "height": 112
        },
        "id": "HYfrcvSvISyD",
        "outputId": "554a1542-0d18-4124-90bb-70c46470d958"
      },
      "source": [
        "data.iloc[1:3]"
      ],
      "execution_count": 17,
      "outputs": [
        {
          "output_type": "execute_result",
          "data": {
            "text/html": [
              "<div>\n",
              "<style scoped>\n",
              "    .dataframe tbody tr th:only-of-type {\n",
              "        vertical-align: middle;\n",
              "    }\n",
              "\n",
              "    .dataframe tbody tr th {\n",
              "        vertical-align: top;\n",
              "    }\n",
              "\n",
              "    .dataframe thead th {\n",
              "        text-align: right;\n",
              "    }\n",
              "</style>\n",
              "<table border=\"1\" class=\"dataframe\">\n",
              "  <thead>\n",
              "    <tr style=\"text-align: right;\">\n",
              "      <th></th>\n",
              "      <th>Course Name</th>\n",
              "      <th>Timestamp</th>\n",
              "      <th>Rating</th>\n",
              "      <th>Comment</th>\n",
              "    </tr>\n",
              "  </thead>\n",
              "  <tbody>\n",
              "    <tr>\n",
              "      <th>1</th>\n",
              "      <td>The Python Mega Course: Build 10 Real World Ap...</td>\n",
              "      <td>2021-04-02 05:12:34+00:00</td>\n",
              "      <td>4.0</td>\n",
              "      <td>NaN</td>\n",
              "    </tr>\n",
              "    <tr>\n",
              "      <th>2</th>\n",
              "      <td>The Python Mega Course: Build 10 Real World Ap...</td>\n",
              "      <td>2021-04-02 05:11:03+00:00</td>\n",
              "      <td>4.0</td>\n",
              "      <td>NaN</td>\n",
              "    </tr>\n",
              "  </tbody>\n",
              "</table>\n",
              "</div>"
            ],
            "text/plain": [
              "                                         Course Name  ... Comment\n",
              "1  The Python Mega Course: Build 10 Real World Ap...  ...     NaN\n",
              "2  The Python Mega Course: Build 10 Real World Ap...  ...     NaN\n",
              "\n",
              "[2 rows x 4 columns]"
            ]
          },
          "metadata": {},
          "execution_count": 17
        }
      ]
    },
    {
      "cell_type": "markdown",
      "metadata": {
        "id": "TJ28gRrGImI4"
      },
      "source": [
        "Seleccionar una seccion"
      ]
    },
    {
      "cell_type": "code",
      "metadata": {
        "colab": {
          "base_uri": "https://localhost:8080/",
          "height": 112
        },
        "id": "srG3Nm-wIqAC",
        "outputId": "ff5d18e2-a7a8-4b49-aecf-498ad2d1934f"
      },
      "source": [
        "data[['Course Name', 'Rating']].iloc[1:3]"
      ],
      "execution_count": 20,
      "outputs": [
        {
          "output_type": "execute_result",
          "data": {
            "text/html": [
              "<div>\n",
              "<style scoped>\n",
              "    .dataframe tbody tr th:only-of-type {\n",
              "        vertical-align: middle;\n",
              "    }\n",
              "\n",
              "    .dataframe tbody tr th {\n",
              "        vertical-align: top;\n",
              "    }\n",
              "\n",
              "    .dataframe thead th {\n",
              "        text-align: right;\n",
              "    }\n",
              "</style>\n",
              "<table border=\"1\" class=\"dataframe\">\n",
              "  <thead>\n",
              "    <tr style=\"text-align: right;\">\n",
              "      <th></th>\n",
              "      <th>Course Name</th>\n",
              "      <th>Rating</th>\n",
              "    </tr>\n",
              "  </thead>\n",
              "  <tbody>\n",
              "    <tr>\n",
              "      <th>1</th>\n",
              "      <td>The Python Mega Course: Build 10 Real World Ap...</td>\n",
              "      <td>4.0</td>\n",
              "    </tr>\n",
              "    <tr>\n",
              "      <th>2</th>\n",
              "      <td>The Python Mega Course: Build 10 Real World Ap...</td>\n",
              "      <td>4.0</td>\n",
              "    </tr>\n",
              "  </tbody>\n",
              "</table>\n",
              "</div>"
            ],
            "text/plain": [
              "                                         Course Name  Rating\n",
              "1  The Python Mega Course: Build 10 Real World Ap...     4.0\n",
              "2  The Python Mega Course: Build 10 Real World Ap...     4.0"
            ]
          },
          "metadata": {},
          "execution_count": 20
        }
      ]
    },
    {
      "cell_type": "markdown",
      "metadata": {
        "id": "kzd9cqllJa38"
      },
      "source": [
        "Seleccionar una celda"
      ]
    },
    {
      "cell_type": "code",
      "metadata": {
        "colab": {
          "base_uri": "https://localhost:8080/"
        },
        "id": "rPPocuIzJeIQ",
        "outputId": "7b8effb2-b489-462c-f323-7350d054627f"
      },
      "source": [
        "data['Rating'].iloc[2]"
      ],
      "execution_count": 21,
      "outputs": [
        {
          "output_type": "execute_result",
          "data": {
            "text/plain": [
              "4.0"
            ]
          },
          "metadata": {},
          "execution_count": 21
        }
      ]
    },
    {
      "cell_type": "markdown",
      "metadata": {
        "id": "iaNZO0i5J4xp"
      },
      "source": [
        "## 2.Filtrando sus datos segun las condiciones"
      ]
    },
    {
      "cell_type": "markdown",
      "metadata": {
        "id": "ySmx6pQ8LkfQ"
      },
      "source": [
        "## Una condicion"
      ]
    },
    {
      "cell_type": "code",
      "metadata": {
        "colab": {
          "base_uri": "https://localhost:8080/",
          "height": 422
        },
        "id": "xX9Dh__oJ9fX",
        "outputId": "96f565c1-aa5a-4e60-bb3f-1484665e170e"
      },
      "source": [
        "data[data['Rating'] > 4]"
      ],
      "execution_count": 24,
      "outputs": [
        {
          "output_type": "execute_result",
          "data": {
            "text/html": [
              "<div>\n",
              "<style scoped>\n",
              "    .dataframe tbody tr th:only-of-type {\n",
              "        vertical-align: middle;\n",
              "    }\n",
              "\n",
              "    .dataframe tbody tr th {\n",
              "        vertical-align: top;\n",
              "    }\n",
              "\n",
              "    .dataframe thead th {\n",
              "        text-align: right;\n",
              "    }\n",
              "</style>\n",
              "<table border=\"1\" class=\"dataframe\">\n",
              "  <thead>\n",
              "    <tr style=\"text-align: right;\">\n",
              "      <th></th>\n",
              "      <th>Course Name</th>\n",
              "      <th>Timestamp</th>\n",
              "      <th>Rating</th>\n",
              "      <th>Comment</th>\n",
              "    </tr>\n",
              "  </thead>\n",
              "  <tbody>\n",
              "    <tr>\n",
              "      <th>3</th>\n",
              "      <td>The Python Mega Course: Build 10 Real World Ap...</td>\n",
              "      <td>2021-04-02 03:33:24+00:00</td>\n",
              "      <td>5.0</td>\n",
              "      <td>NaN</td>\n",
              "    </tr>\n",
              "    <tr>\n",
              "      <th>4</th>\n",
              "      <td>The Python Mega Course: Build 10 Real World Ap...</td>\n",
              "      <td>2021-04-02 03:31:49+00:00</td>\n",
              "      <td>4.5</td>\n",
              "      <td>NaN</td>\n",
              "    </tr>\n",
              "    <tr>\n",
              "      <th>5</th>\n",
              "      <td>The Python Mega Course: Build 10 Real World Ap...</td>\n",
              "      <td>2021-04-02 01:10:06+00:00</td>\n",
              "      <td>4.5</td>\n",
              "      <td>NaN</td>\n",
              "    </tr>\n",
              "    <tr>\n",
              "      <th>6</th>\n",
              "      <td>The Python Mega Course: Build 10 Real World Ap...</td>\n",
              "      <td>2021-04-02 00:44:54+00:00</td>\n",
              "      <td>4.5</td>\n",
              "      <td>NaN</td>\n",
              "    </tr>\n",
              "    <tr>\n",
              "      <th>7</th>\n",
              "      <td>The Python Mega Course: Build 10 Real World Ap...</td>\n",
              "      <td>2021-04-01 23:42:02+00:00</td>\n",
              "      <td>5.0</td>\n",
              "      <td>NaN</td>\n",
              "    </tr>\n",
              "    <tr>\n",
              "      <th>...</th>\n",
              "      <td>...</td>\n",
              "      <td>...</td>\n",
              "      <td>...</td>\n",
              "      <td>...</td>\n",
              "    </tr>\n",
              "    <tr>\n",
              "      <th>44994</th>\n",
              "      <td>The Python Mega Course: Build 10 Real World Ap...</td>\n",
              "      <td>2018-01-01 01:19:24+00:00</td>\n",
              "      <td>5.0</td>\n",
              "      <td>NaN</td>\n",
              "    </tr>\n",
              "    <tr>\n",
              "      <th>44996</th>\n",
              "      <td>The Python Mega Course: Build 10 Real World Ap...</td>\n",
              "      <td>2018-01-01 01:09:56+00:00</td>\n",
              "      <td>5.0</td>\n",
              "      <td>NaN</td>\n",
              "    </tr>\n",
              "    <tr>\n",
              "      <th>44997</th>\n",
              "      <td>The Python Mega Course: Build 10 Real World Ap...</td>\n",
              "      <td>2018-01-01 01:08:11+00:00</td>\n",
              "      <td>5.0</td>\n",
              "      <td>NaN</td>\n",
              "    </tr>\n",
              "    <tr>\n",
              "      <th>44998</th>\n",
              "      <td>Python for Beginners with Examples</td>\n",
              "      <td>2018-01-01 01:05:26+00:00</td>\n",
              "      <td>5.0</td>\n",
              "      <td>NaN</td>\n",
              "    </tr>\n",
              "    <tr>\n",
              "      <th>44999</th>\n",
              "      <td>The Python Mega Course: Build 10 Real World Ap...</td>\n",
              "      <td>2018-01-01 01:01:16+00:00</td>\n",
              "      <td>5.0</td>\n",
              "      <td>NaN</td>\n",
              "    </tr>\n",
              "  </tbody>\n",
              "</table>\n",
              "<p>29758 rows × 4 columns</p>\n",
              "</div>"
            ],
            "text/plain": [
              "                                             Course Name  ... Comment\n",
              "3      The Python Mega Course: Build 10 Real World Ap...  ...     NaN\n",
              "4      The Python Mega Course: Build 10 Real World Ap...  ...     NaN\n",
              "5      The Python Mega Course: Build 10 Real World Ap...  ...     NaN\n",
              "6      The Python Mega Course: Build 10 Real World Ap...  ...     NaN\n",
              "7      The Python Mega Course: Build 10 Real World Ap...  ...     NaN\n",
              "...                                                  ...  ...     ...\n",
              "44994  The Python Mega Course: Build 10 Real World Ap...  ...     NaN\n",
              "44996  The Python Mega Course: Build 10 Real World Ap...  ...     NaN\n",
              "44997  The Python Mega Course: Build 10 Real World Ap...  ...     NaN\n",
              "44998                 Python for Beginners with Examples  ...     NaN\n",
              "44999  The Python Mega Course: Build 10 Real World Ap...  ...     NaN\n",
              "\n",
              "[29758 rows x 4 columns]"
            ]
          },
          "metadata": {},
          "execution_count": 24
        }
      ]
    },
    {
      "cell_type": "markdown",
      "metadata": {
        "id": "gZaBn1ZfLqhe"
      },
      "source": [
        "### Conbinacion multiple"
      ]
    },
    {
      "cell_type": "code",
      "metadata": {
        "colab": {
          "base_uri": "https://localhost:8080/",
          "height": 422
        },
        "id": "5PV0mFoGLtKc",
        "outputId": "ef9743dd-00f9-444c-b539-e7acc8930f1c"
      },
      "source": [
        "data[(data[\"Rating\"] > 4)&(data[\"Course Name\"]==\"The Python Mega Course: Build 10 Real World Applications\")]"
      ],
      "execution_count": 28,
      "outputs": [
        {
          "output_type": "execute_result",
          "data": {
            "text/html": [
              "<div>\n",
              "<style scoped>\n",
              "    .dataframe tbody tr th:only-of-type {\n",
              "        vertical-align: middle;\n",
              "    }\n",
              "\n",
              "    .dataframe tbody tr th {\n",
              "        vertical-align: top;\n",
              "    }\n",
              "\n",
              "    .dataframe thead th {\n",
              "        text-align: right;\n",
              "    }\n",
              "</style>\n",
              "<table border=\"1\" class=\"dataframe\">\n",
              "  <thead>\n",
              "    <tr style=\"text-align: right;\">\n",
              "      <th></th>\n",
              "      <th>Course Name</th>\n",
              "      <th>Timestamp</th>\n",
              "      <th>Rating</th>\n",
              "      <th>Comment</th>\n",
              "    </tr>\n",
              "  </thead>\n",
              "  <tbody>\n",
              "    <tr>\n",
              "      <th>3</th>\n",
              "      <td>The Python Mega Course: Build 10 Real World Ap...</td>\n",
              "      <td>2021-04-02 03:33:24+00:00</td>\n",
              "      <td>5.0</td>\n",
              "      <td>NaN</td>\n",
              "    </tr>\n",
              "    <tr>\n",
              "      <th>4</th>\n",
              "      <td>The Python Mega Course: Build 10 Real World Ap...</td>\n",
              "      <td>2021-04-02 03:31:49+00:00</td>\n",
              "      <td>4.5</td>\n",
              "      <td>NaN</td>\n",
              "    </tr>\n",
              "    <tr>\n",
              "      <th>5</th>\n",
              "      <td>The Python Mega Course: Build 10 Real World Ap...</td>\n",
              "      <td>2021-04-02 01:10:06+00:00</td>\n",
              "      <td>4.5</td>\n",
              "      <td>NaN</td>\n",
              "    </tr>\n",
              "    <tr>\n",
              "      <th>6</th>\n",
              "      <td>The Python Mega Course: Build 10 Real World Ap...</td>\n",
              "      <td>2021-04-02 00:44:54+00:00</td>\n",
              "      <td>4.5</td>\n",
              "      <td>NaN</td>\n",
              "    </tr>\n",
              "    <tr>\n",
              "      <th>7</th>\n",
              "      <td>The Python Mega Course: Build 10 Real World Ap...</td>\n",
              "      <td>2021-04-01 23:42:02+00:00</td>\n",
              "      <td>5.0</td>\n",
              "      <td>NaN</td>\n",
              "    </tr>\n",
              "    <tr>\n",
              "      <th>...</th>\n",
              "      <td>...</td>\n",
              "      <td>...</td>\n",
              "      <td>...</td>\n",
              "      <td>...</td>\n",
              "    </tr>\n",
              "    <tr>\n",
              "      <th>44992</th>\n",
              "      <td>The Python Mega Course: Build 10 Real World Ap...</td>\n",
              "      <td>2018-01-01 01:27:26+00:00</td>\n",
              "      <td>5.0</td>\n",
              "      <td>NaN</td>\n",
              "    </tr>\n",
              "    <tr>\n",
              "      <th>44994</th>\n",
              "      <td>The Python Mega Course: Build 10 Real World Ap...</td>\n",
              "      <td>2018-01-01 01:19:24+00:00</td>\n",
              "      <td>5.0</td>\n",
              "      <td>NaN</td>\n",
              "    </tr>\n",
              "    <tr>\n",
              "      <th>44996</th>\n",
              "      <td>The Python Mega Course: Build 10 Real World Ap...</td>\n",
              "      <td>2018-01-01 01:09:56+00:00</td>\n",
              "      <td>5.0</td>\n",
              "      <td>NaN</td>\n",
              "    </tr>\n",
              "    <tr>\n",
              "      <th>44997</th>\n",
              "      <td>The Python Mega Course: Build 10 Real World Ap...</td>\n",
              "      <td>2018-01-01 01:08:11+00:00</td>\n",
              "      <td>5.0</td>\n",
              "      <td>NaN</td>\n",
              "    </tr>\n",
              "    <tr>\n",
              "      <th>44999</th>\n",
              "      <td>The Python Mega Course: Build 10 Real World Ap...</td>\n",
              "      <td>2018-01-01 01:01:16+00:00</td>\n",
              "      <td>5.0</td>\n",
              "      <td>NaN</td>\n",
              "    </tr>\n",
              "  </tbody>\n",
              "</table>\n",
              "<p>24260 rows × 4 columns</p>\n",
              "</div>"
            ],
            "text/plain": [
              "                                             Course Name  ... Comment\n",
              "3      The Python Mega Course: Build 10 Real World Ap...  ...     NaN\n",
              "4      The Python Mega Course: Build 10 Real World Ap...  ...     NaN\n",
              "5      The Python Mega Course: Build 10 Real World Ap...  ...     NaN\n",
              "6      The Python Mega Course: Build 10 Real World Ap...  ...     NaN\n",
              "7      The Python Mega Course: Build 10 Real World Ap...  ...     NaN\n",
              "...                                                  ...  ...     ...\n",
              "44992  The Python Mega Course: Build 10 Real World Ap...  ...     NaN\n",
              "44994  The Python Mega Course: Build 10 Real World Ap...  ...     NaN\n",
              "44996  The Python Mega Course: Build 10 Real World Ap...  ...     NaN\n",
              "44997  The Python Mega Course: Build 10 Real World Ap...  ...     NaN\n",
              "44999  The Python Mega Course: Build 10 Real World Ap...  ...     NaN\n",
              "\n",
              "[24260 rows x 4 columns]"
            ]
          },
          "metadata": {},
          "execution_count": 28
        }
      ]
    },
    {
      "cell_type": "markdown",
      "metadata": {
        "id": "6TTx27O9OIjS"
      },
      "source": [
        "### Filtrando en base a la fecha"
      ]
    },
    {
      "cell_type": "code",
      "metadata": {
        "colab": {
          "base_uri": "https://localhost:8080/",
          "height": 595
        },
        "id": "D7TPpq6XOnYn",
        "outputId": "a8c4d9c7-49ad-439a-8291-72eef3f5652e"
      },
      "source": [
        "data[(data['Timestamp'] >= datetime(2020,7,1, tzinfo=utc)) & (data['Timestamp'] <= datetime(2020,12,30,tzinfo=utc) )]"
      ],
      "execution_count": 32,
      "outputs": [
        {
          "output_type": "execute_result",
          "data": {
            "text/html": [
              "<div>\n",
              "<style scoped>\n",
              "    .dataframe tbody tr th:only-of-type {\n",
              "        vertical-align: middle;\n",
              "    }\n",
              "\n",
              "    .dataframe tbody tr th {\n",
              "        vertical-align: top;\n",
              "    }\n",
              "\n",
              "    .dataframe thead th {\n",
              "        text-align: right;\n",
              "    }\n",
              "</style>\n",
              "<table border=\"1\" class=\"dataframe\">\n",
              "  <thead>\n",
              "    <tr style=\"text-align: right;\">\n",
              "      <th></th>\n",
              "      <th>Course Name</th>\n",
              "      <th>Timestamp</th>\n",
              "      <th>Rating</th>\n",
              "      <th>Comment</th>\n",
              "    </tr>\n",
              "  </thead>\n",
              "  <tbody>\n",
              "    <tr>\n",
              "      <th>3099</th>\n",
              "      <td>The Python Mega Course: Build 10 Real World Ap...</td>\n",
              "      <td>2020-12-29 23:55:35+00:00</td>\n",
              "      <td>4.0</td>\n",
              "      <td>NaN</td>\n",
              "    </tr>\n",
              "    <tr>\n",
              "      <th>3100</th>\n",
              "      <td>The Python Mega Course: Build 10 Real World Ap...</td>\n",
              "      <td>2020-12-29 23:12:24+00:00</td>\n",
              "      <td>5.0</td>\n",
              "      <td>NaN</td>\n",
              "    </tr>\n",
              "    <tr>\n",
              "      <th>3101</th>\n",
              "      <td>The Python Mega Course: Build 10 Real World Ap...</td>\n",
              "      <td>2020-12-29 23:09:20+00:00</td>\n",
              "      <td>4.0</td>\n",
              "      <td>Course is well laid out, instructor is clearly...</td>\n",
              "    </tr>\n",
              "    <tr>\n",
              "      <th>3102</th>\n",
              "      <td>The Python Mega Course: Build 10 Real World Ap...</td>\n",
              "      <td>2020-12-29 22:09:37+00:00</td>\n",
              "      <td>4.0</td>\n",
              "      <td>NaN</td>\n",
              "    </tr>\n",
              "    <tr>\n",
              "      <th>3103</th>\n",
              "      <td>The Python Mega Course: Build 10 Real World Ap...</td>\n",
              "      <td>2020-12-29 21:15:54+00:00</td>\n",
              "      <td>4.5</td>\n",
              "      <td>NaN</td>\n",
              "    </tr>\n",
              "    <tr>\n",
              "      <th>...</th>\n",
              "      <td>...</td>\n",
              "      <td>...</td>\n",
              "      <td>...</td>\n",
              "      <td>...</td>\n",
              "    </tr>\n",
              "    <tr>\n",
              "      <th>9729</th>\n",
              "      <td>The Python Mega Course: Build 10 Real World Ap...</td>\n",
              "      <td>2020-07-01 03:09:44+00:00</td>\n",
              "      <td>3.5</td>\n",
              "      <td>NaN</td>\n",
              "    </tr>\n",
              "    <tr>\n",
              "      <th>9730</th>\n",
              "      <td>The Python Mega Course: Build 10 Real World Ap...</td>\n",
              "      <td>2020-07-01 03:09:12+00:00</td>\n",
              "      <td>5.0</td>\n",
              "      <td>NaN</td>\n",
              "    </tr>\n",
              "    <tr>\n",
              "      <th>9731</th>\n",
              "      <td>The Python Mega Course: Build 10 Real World Ap...</td>\n",
              "      <td>2020-07-01 02:40:58+00:00</td>\n",
              "      <td>4.0</td>\n",
              "      <td>NaN</td>\n",
              "    </tr>\n",
              "    <tr>\n",
              "      <th>9732</th>\n",
              "      <td>The Python Mega Course: Build 10 Real World Ap...</td>\n",
              "      <td>2020-07-01 02:04:02+00:00</td>\n",
              "      <td>5.0</td>\n",
              "      <td>nice</td>\n",
              "    </tr>\n",
              "    <tr>\n",
              "      <th>9733</th>\n",
              "      <td>The Python Mega Course: Build 10 Real World Ap...</td>\n",
              "      <td>2020-07-01 00:01:34+00:00</td>\n",
              "      <td>2.0</td>\n",
              "      <td>Hard to follow if u have no experience program...</td>\n",
              "    </tr>\n",
              "  </tbody>\n",
              "</table>\n",
              "<p>6635 rows × 4 columns</p>\n",
              "</div>"
            ],
            "text/plain": [
              "                                            Course Name  ...                                            Comment\n",
              "3099  The Python Mega Course: Build 10 Real World Ap...  ...                                                NaN\n",
              "3100  The Python Mega Course: Build 10 Real World Ap...  ...                                                NaN\n",
              "3101  The Python Mega Course: Build 10 Real World Ap...  ...  Course is well laid out, instructor is clearly...\n",
              "3102  The Python Mega Course: Build 10 Real World Ap...  ...                                                NaN\n",
              "3103  The Python Mega Course: Build 10 Real World Ap...  ...                                                NaN\n",
              "...                                                 ...  ...                                                ...\n",
              "9729  The Python Mega Course: Build 10 Real World Ap...  ...                                                NaN\n",
              "9730  The Python Mega Course: Build 10 Real World Ap...  ...                                                NaN\n",
              "9731  The Python Mega Course: Build 10 Real World Ap...  ...                                                NaN\n",
              "9732  The Python Mega Course: Build 10 Real World Ap...  ...                                               nice\n",
              "9733  The Python Mega Course: Build 10 Real World Ap...  ...  Hard to follow if u have no experience program...\n",
              "\n",
              "[6635 rows x 4 columns]"
            ]
          },
          "metadata": {},
          "execution_count": 32
        }
      ]
    },
    {
      "cell_type": "markdown",
      "metadata": {
        "id": "jvHweU_8VKeO"
      },
      "source": [
        "### de los datos a la información"
      ]
    },
    {
      "cell_type": "markdown",
      "metadata": {
        "id": "lpCpeCvNVS0L"
      },
      "source": [
        "### Puntuación media"
      ]
    },
    {
      "cell_type": "code",
      "metadata": {
        "colab": {
          "base_uri": "https://localhost:8080/"
        },
        "id": "4IikwDWiWK0w",
        "outputId": "3e323fff-21a7-4e6f-8ba6-95a532ecff72"
      },
      "source": [
        "data['Rating'].mean()"
      ],
      "execution_count": 33,
      "outputs": [
        {
          "output_type": "execute_result",
          "data": {
            "text/plain": [
              "4.442155555555556"
            ]
          },
          "metadata": {},
          "execution_count": 33
        }
      ]
    },
    {
      "cell_type": "markdown",
      "metadata": {
        "id": "VU1G-5fnVWua"
      },
      "source": [
        "### promedio de calificación para un período en particular"
      ]
    },
    {
      "cell_type": "code",
      "metadata": {
        "colab": {
          "base_uri": "https://localhost:8080/"
        },
        "id": "DmLZUgmaiAuC",
        "outputId": "e10a1873-6d10-48a6-ce37-77a5953010d4"
      },
      "source": [
        "data[data['Course Name']=='The Python Mega Course: Build 10 Real World Applications']['Rating'].mean()"
      ],
      "execution_count": 34,
      "outputs": [
        {
          "output_type": "execute_result",
          "data": {
            "text/plain": [
              "4.477270180942244"
            ]
          },
          "metadata": {},
          "execution_count": 34
        }
      ]
    },
    {
      "cell_type": "markdown",
      "metadata": {
        "id": "bgXSmqJGVWrS"
      },
      "source": [
        "### un rango de calificaciones no comentadas"
      ]
    },
    {
      "cell_type": "code",
      "metadata": {
        "colab": {
          "base_uri": "https://localhost:8080/"
        },
        "id": "GJ6ocPL0iWFy",
        "outputId": "5b9d21e4-a287-4120-d640-755238a842c0"
      },
      "source": [
        "data[(data['Timestamp'] >= datetime(2020,1,1,tzinfo=utc)) & (data['Timestamp'] <= datetime(2020,12,31, tzinfo=utc))]['Rating'].mean()"
      ],
      "execution_count": 35,
      "outputs": [
        {
          "output_type": "execute_result",
          "data": {
            "text/plain": [
              "4.476541271662339"
            ]
          },
          "metadata": {},
          "execution_count": 35
        }
      ]
    },
    {
      "cell_type": "markdown",
      "metadata": {
        "id": "SV3kgvcfVWlV"
      },
      "source": [
        "### un rango de calificaciones comentadas"
      ]
    },
    {
      "cell_type": "code",
      "metadata": {
        "colab": {
          "base_uri": "https://localhost:8080/"
        },
        "id": "hOVFLOXni-Rh",
        "outputId": "72b64f9a-62d0-42a4-fbc0-8d4881d8bb87"
      },
      "source": [
        "data[data['Comment'].notnull()]['Rating'].mean()"
      ],
      "execution_count": 36,
      "outputs": [
        {
          "output_type": "execute_result",
          "data": {
            "text/plain": [
              "4.489777908515959"
            ]
          },
          "metadata": {},
          "execution_count": 36
        }
      ]
    },
    {
      "cell_type": "markdown",
      "metadata": {
        "id": "hXgM1qxAVWa8"
      },
      "source": [
        "### número de valoraciones sin comentar"
      ]
    },
    {
      "cell_type": "code",
      "metadata": {
        "colab": {
          "base_uri": "https://localhost:8080/"
        },
        "id": "_fTjfatejYRk",
        "outputId": "3cdfaa4e-a3d8-43a3-dc55-04ecd08ff7fc"
      },
      "source": [
        "data[data['Comment'].isnull()]['Rating'].count()"
      ],
      "execution_count": 37,
      "outputs": [
        {
          "output_type": "execute_result",
          "data": {
            "text/plain": [
              "38201"
            ]
          },
          "metadata": {},
          "execution_count": 37
        }
      ]
    },
    {
      "cell_type": "markdown",
      "metadata": {
        "id": "J_xqlRqsVWJ7"
      },
      "source": [
        "### número de valoraciones comentadas"
      ]
    },
    {
      "cell_type": "code",
      "metadata": {
        "colab": {
          "base_uri": "https://localhost:8080/"
        },
        "id": "qOMt4ctpjmPD",
        "outputId": "2dfc5968-842c-4301-c9de-e50dd2202f36"
      },
      "source": [
        "data[data['Comment'].notnull()]['Rating'].count()"
      ],
      "execution_count": 38,
      "outputs": [
        {
          "output_type": "execute_result",
          "data": {
            "text/plain": [
              "6799"
            ]
          },
          "metadata": {},
          "execution_count": 38
        }
      ]
    },
    {
      "cell_type": "markdown",
      "metadata": {
        "id": "V6dAOuXYj5Wc"
      },
      "source": [
        "### número de calificación comentada"
      ]
    },
    {
      "cell_type": "code",
      "metadata": {
        "colab": {
          "base_uri": "https://localhost:8080/"
        },
        "id": "47ra2d6GkH-B",
        "outputId": "226ced9a-6488-4e48-904a-f3459bee80d1"
      },
      "source": [
        "data[data['Comment'].str.contains('accent',na=False)]['Rating'].count()\n"
      ],
      "execution_count": 40,
      "outputs": [
        {
          "output_type": "execute_result",
          "data": {
            "text/plain": [
              "77"
            ]
          },
          "metadata": {},
          "execution_count": 40
        }
      ]
    },
    {
      "cell_type": "markdown",
      "metadata": {
        "id": "ZC0eF_Htj7_B"
      },
      "source": [
        "### promedio de calificaciones comentadas con \"Aceptados\" in comentario"
      ]
    },
    {
      "cell_type": "code",
      "metadata": {
        "colab": {
          "base_uri": "https://localhost:8080/"
        },
        "id": "FiRlX4j9VNw6",
        "outputId": "c8dd18ab-4051-4102-d214-2f5e474b6e47"
      },
      "source": [
        "data[data['Comment'].str.contains('accent',na=False)]['Rating'].mean()"
      ],
      "execution_count": 41,
      "outputs": [
        {
          "output_type": "execute_result",
          "data": {
            "text/plain": [
              "3.8636363636363638"
            ]
          },
          "metadata": {},
          "execution_count": 41
        }
      ]
    }
  ]
}